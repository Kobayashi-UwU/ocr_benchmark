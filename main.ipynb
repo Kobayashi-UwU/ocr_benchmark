{
 "cells": [
  {
   "cell_type": "markdown",
   "metadata": {},
   "source": [
    "# Import dependency"
   ]
  },
  {
   "cell_type": "code",
   "execution_count": 276,
   "metadata": {},
   "outputs": [],
   "source": [
    "import difflib\n",
    "from difflib import SequenceMatcher\n"
   ]
  },
  {
   "cell_type": "code",
   "execution_count": 277,
   "metadata": {},
   "outputs": [],
   "source": [
    "character = [1203,1171,1547,1459,1488,1768,1337,1799,1335,1271]"
   ]
  },
  {
   "cell_type": "markdown",
   "metadata": {},
   "source": [
    "# Testing"
   ]
  },
  {
   "cell_type": "code",
   "execution_count": 278,
   "metadata": {},
   "outputs": [],
   "source": [
    "output_file_path = 'output.txt'\n",
    "with open(output_file_path, 'w') as output_file:\n",
    "    output_file.write(f\"Testing\\n\")"
   ]
  },
  {
   "cell_type": "markdown",
   "metadata": {},
   "source": [
    "## Testing(Without checking space/tabs/enter)"
   ]
  },
  {
   "cell_type": "code",
   "execution_count": 279,
   "metadata": {},
   "outputs": [],
   "source": [
    "with open(output_file_path, 'r') as file:\n",
    "    existing_contents = file.read()\n",
    "\n",
    "with open(output_file_path, 'w') as file:\n",
    "    file.write(existing_contents + \"\\nTesting(Without checking space/tab/enter)\\n\")"
   ]
  },
  {
   "cell_type": "markdown",
   "metadata": {},
   "source": [
    "### Character Different"
   ]
  },
  {
   "cell_type": "code",
   "execution_count": 280,
   "metadata": {},
   "outputs": [],
   "source": [
    "with open(output_file_path, 'r') as file:\n",
    "    existing_contents = file.read()\n",
    "\n",
    "with open(output_file_path, 'w') as file:\n",
    "    file.write(existing_contents + \"\\nCharacter Different\")"
   ]
  },
  {
   "cell_type": "code",
   "execution_count": 281,
   "metadata": {},
   "outputs": [
    {
     "name": "stdout",
     "output_type": "stream",
     "text": [
      "Picture 1 : Number of character differences: 1209\n",
      "Picture 2 : Number of character differences: 1171\n",
      "Picture 3 : Number of character differences: 1547\n",
      "Picture 4 : Number of character differences: 1459\n",
      "Picture 5 : Number of character differences: 1488\n",
      "Picture 6 : Number of character differences: 1768\n",
      "Picture 7 : Number of character differences: 1337\n",
      "Picture 8 : Number of character differences: 1799\n",
      "Picture 9 : Number of character differences: 1335\n",
      "Picture 10 : Number of character differences: 1271\n"
     ]
    }
   ],
   "source": [
    "for i in range(1,11):\n",
    "    # Read answer file\n",
    "    file_path_answer = f'./answer/{i}.txt'\n",
    "    with open(file_path_answer, 'r') as file:\n",
    "        answer = file.read()\n",
    "    \n",
    "    # Remove spaces, tabs, and Enter\n",
    "    cleaned_answer = answer.replace(\" \", \"\").replace(\"\\t\", \"\").replace(\"\\n\", \"\")\n",
    "\n",
    "    # Read input file\n",
    "    file_path_input = f'./input/{i}.txt'\n",
    "    with open(file_path_input, 'r') as file:\n",
    "        file_contents = file.read()\n",
    "\n",
    "    # Remove spaces, tabs, and Enter\n",
    "    cleaned_input = file_contents.replace(\" \", \"\").replace(\"\\t\", \"\").replace(\"\\n\", \"\")\n",
    "\n",
    "    # Use difflib to find the differences\n",
    "    differ = difflib.Differ()\n",
    "    differences = list(differ.compare(cleaned_answer, cleaned_input))\n",
    "\n",
    "    # Count the number of characters that are different\n",
    "    num_differences = sum(1 for diff in differences if diff.startswith('-') or diff.startswith('+'))\n",
    "\n",
    "    # Print the number of character differences\n",
    "    print(f\"Picture {i} : Number of character differences: {num_differences}\")\n",
    "\n",
    "    # Save result to output file\n",
    "    with open(output_file_path, 'r') as file:\n",
    "        existing_contents = file.read()\n",
    "\n",
    "    with open(output_file_path, 'w') as file:\n",
    "        file.write(existing_contents+f\"\\nPicture {i} : Number of character differences: {num_differences}\")\n",
    "    "
   ]
  },
  {
   "cell_type": "markdown",
   "metadata": {},
   "source": [
    "### Word Different"
   ]
  },
  {
   "cell_type": "code",
   "execution_count": 282,
   "metadata": {},
   "outputs": [],
   "source": [
    "with open(output_file_path, 'r') as file:\n",
    "    existing_contents = file.read()\n",
    "\n",
    "with open(output_file_path, 'w') as file:\n",
    "    file.write(existing_contents + \"\\n\\nWord Different\")"
   ]
  },
  {
   "cell_type": "code",
   "execution_count": 283,
   "metadata": {},
   "outputs": [
    {
     "name": "stdout",
     "output_type": "stream",
     "text": [
      "Differing words:\n",
      "\n",
      "Picture 1 : Number of Word differences: 49\n",
      "Differing words:\n",
      "\n",
      "Picture 2 : Number of Word differences: 49\n",
      "Differing words:\n",
      "\n",
      "Picture 3 : Number of Word differences: 73\n",
      "Differing words:\n",
      "\n",
      "Picture 4 : Number of Word differences: 51\n",
      "Differing words:\n",
      "\n",
      "Picture 5 : Number of Word differences: 88\n",
      "Differing words:\n",
      "\n",
      "Picture 6 : Number of Word differences: 99\n",
      "Differing words:\n",
      "\n",
      "Picture 7 : Number of Word differences: 75\n",
      "Differing words:\n",
      "\n",
      "Picture 8 : Number of Word differences: 98\n",
      "Differing words:\n",
      "\n",
      "Picture 9 : Number of Word differences: 80\n",
      "Differing words:\n",
      "\n",
      "Picture 10 : Number of Word differences: 71\n"
     ]
    }
   ],
   "source": [
    "for i in range(1,11):\n",
    "    # Read answer file\n",
    "    file_path_answer = f'./answer/{i}.txt'\n",
    "    with open(file_path_answer, 'r') as file:\n",
    "        answer = file.read()\n",
    "    # Read input file\n",
    "    file_path_input = f'./input/{i}.txt'\n",
    "    with open(file_path_input, 'r') as file:\n",
    "        input = file.read()\n",
    "\n",
    "    # Tokenize the texts into words (you may need to install a word tokenizer for Thai and English)\n",
    "    original_words = answer.split()\n",
    "    new_words = input.split()\n",
    "\n",
    "    # Use SequenceMatcher to find the similarities\n",
    "    matcher = SequenceMatcher(None, original_words, new_words)\n",
    "    differences = list(matcher.get_opcodes())\n",
    "\n",
    "    # Count the number of words that are different\n",
    "    num_differences = len(original_words) - len(new_words)\n",
    "\n",
    "    # Extract the differing words\n",
    "    differing_words = [new_words[j1:j2] for tag, i1, i2, j1, j2 in differences if tag != 'equal']\n",
    "\n",
    "    # Print the differing words\n",
    "    print(\"Differing words:\")\n",
    "    for word_list in differing_words:\n",
    "        print(\" \".join(word_list))\n",
    "\n",
    "    # Print the number of character differences\n",
    "    print(f\"Picture {i} : Number of Word differences: {num_differences}\")\n",
    "\n",
    "    # Save result to output file\n",
    "    with open(output_file_path, 'r') as file:\n",
    "        existing_contents = file.read()\n",
    "\n",
    "    with open(output_file_path, 'w') as file:\n",
    "        file.write(existing_contents+f\"\\nPicture {i} : Number of Word differences: {num_differences}\\n{differing_words}\")\n",
    "    "
   ]
  },
  {
   "cell_type": "markdown",
   "metadata": {},
   "source": []
  },
  {
   "cell_type": "code",
   "execution_count": null,
   "metadata": {},
   "outputs": [],
   "source": []
  },
  {
   "cell_type": "code",
   "execution_count": null,
   "metadata": {},
   "outputs": [],
   "source": []
  },
  {
   "cell_type": "markdown",
   "metadata": {},
   "source": [
    "# Baseline"
   ]
  },
  {
   "cell_type": "code",
   "execution_count": 284,
   "metadata": {},
   "outputs": [],
   "source": [
    "with open(output_file_path, 'r') as file:\n",
    "    existing_contents = file.read()\n",
    "\n",
    "with open(output_file_path, 'w') as file:\n",
    "    file.write(existing_contents + \"\\nBaseline\\n\")"
   ]
  },
  {
   "cell_type": "markdown",
   "metadata": {},
   "source": [
    "## Character Different"
   ]
  },
  {
   "cell_type": "code",
   "execution_count": 285,
   "metadata": {},
   "outputs": [],
   "source": [
    "with open(output_file_path, 'r') as file:\n",
    "    existing_contents = file.read()\n",
    "\n",
    "with open(output_file_path, 'w') as file:\n",
    "    file.write(existing_contents + \"\\nCharacter Different\")"
   ]
  },
  {
   "cell_type": "code",
   "execution_count": 286,
   "metadata": {},
   "outputs": [
    {
     "name": "stdout",
     "output_type": "stream",
     "text": [
      "Picture 1 : Number of character differences: 1208\n",
      "Picture 2 : Number of character differences: 1171\n",
      "Picture 3 : Number of character differences: 1547\n",
      "Picture 4 : Number of character differences: 1459\n",
      "Picture 5 : Number of character differences: 1488\n",
      "Picture 6 : Number of character differences: 1768\n",
      "Picture 7 : Number of character differences: 1337\n",
      "Picture 8 : Number of character differences: 1799\n",
      "Picture 9 : Number of character differences: 1335\n",
      "Picture 10 : Number of character differences: 1271\n"
     ]
    }
   ],
   "source": [
    "for i in range(1,11):\n",
    "    # Read answer file\n",
    "    file_path_answer = f'./answer/{i}.txt'\n",
    "    with open(file_path_answer, 'r') as file:\n",
    "        answer = file.read()\n",
    "    \n",
    "    # Remove spaces, tabs, and Enter\n",
    "    cleaned_answer = answer.replace(\" \", \"\").replace(\"\\t\", \"\").replace(\"\\n\", \"\")\n",
    "\n",
    "    # Read input file\n",
    "    file_path_input = f'./baseline/{i}.txt'\n",
    "    with open(file_path_input, 'r') as file:\n",
    "        file_contents = file.read()\n",
    "\n",
    "    # Remove spaces, tabs, and Enter\n",
    "    cleaned_input = file_contents.replace(\" \", \"\").replace(\"\\t\", \"\").replace(\"\\n\", \"\")\n",
    "\n",
    "    # Use difflib to find the differences\n",
    "    differ = difflib.Differ()\n",
    "    differences = list(differ.compare(cleaned_answer, cleaned_input))\n",
    "\n",
    "    # Count the number of characters that are different\n",
    "    num_differences = sum(1 for diff in differences if diff.startswith('-') or diff.startswith('+'))\n",
    "\n",
    "    # Print the number of character differences\n",
    "    print(f\"Picture {i} : Number of character differences: {num_differences}\")\n",
    "\n",
    "    # Save result to output file\n",
    "    with open(output_file_path, 'r') as file:\n",
    "        existing_contents = file.read()\n",
    "\n",
    "    with open(output_file_path, 'w') as file:\n",
    "        file.write(existing_contents+f\"\\nPicture {i} : Number of character differences: {num_differences}\")\n",
    "    "
   ]
  },
  {
   "cell_type": "markdown",
   "metadata": {},
   "source": [
    "## Word Different"
   ]
  },
  {
   "cell_type": "code",
   "execution_count": 287,
   "metadata": {},
   "outputs": [],
   "source": [
    "with open(output_file_path, 'r') as file:\n",
    "    existing_contents = file.read()\n",
    "\n",
    "with open(output_file_path, 'w') as file:\n",
    "    file.write(existing_contents + \"\\n\\nWord Different\")"
   ]
  },
  {
   "cell_type": "code",
   "execution_count": 289,
   "metadata": {},
   "outputs": [
    {
     "name": "stdout",
     "output_type": "stream",
     "text": [
      "Matching words for Picture 1:\n",
      "แพ็กซ์ จะกัดเขาได้\n",
      "เด็กชายลงจากรถ\n",
      "เด็กชายมองพ่ออยู่นาน แล้วน้ำตา ก็ไหลอีกครั้ง จากนั้นเขาใช้ปกเสื้อเช็ดหน้า\n",
      "และมันก็จะย้อนกลับไป\n",
      "แต่มันกลับวิ่งตามของเล่นไป\n",
      "Differing words for Picture 1:\n",
      "\n",
      "Picture 1: Number of Word differences: 22\n",
      "Matching words for Picture 2:\n",
      "Differing words for Picture 2:\n",
      "\n",
      "Picture 2: Number of Word differences: 49\n",
      "Matching words for Picture 3:\n",
      "Differing words for Picture 3:\n",
      "\n",
      "Picture 3: Number of Word differences: 73\n",
      "Matching words for Picture 4:\n",
      "Differing words for Picture 4:\n",
      "\n",
      "Picture 4: Number of Word differences: 51\n",
      "Matching words for Picture 5:\n",
      "Differing words for Picture 5:\n",
      "\n",
      "Picture 5: Number of Word differences: 88\n",
      "Matching words for Picture 6:\n",
      "Differing words for Picture 6:\n",
      "\n",
      "Picture 6: Number of Word differences: 99\n",
      "Matching words for Picture 7:\n",
      "Differing words for Picture 7:\n",
      "\n",
      "Picture 7: Number of Word differences: 75\n",
      "Matching words for Picture 8:\n",
      "Differing words for Picture 8:\n",
      "\n",
      "Picture 8: Number of Word differences: 98\n",
      "Matching words for Picture 9:\n",
      "Differing words for Picture 9:\n",
      "\n",
      "Picture 9: Number of Word differences: 80\n",
      "Matching words for Picture 10:\n",
      "Differing words for Picture 10:\n",
      "\n",
      "Picture 10: Number of Word differences: 71\n"
     ]
    }
   ],
   "source": [
    "for i in range(1,11):\n",
    "    # Read answer file\n",
    "    file_path_answer = f'./answer/{i}.txt'\n",
    "    with open(file_path_answer, 'r') as file:\n",
    "        answer = file.read()\n",
    "    # Read input file\n",
    "    file_path_input = f'./baseline/{i}.txt'\n",
    "    with open(file_path_input, 'r') as file:\n",
    "        input = file.read()\n",
    "\n",
    "    # Tokenize the texts into words (you may need to install a word tokenizer for Thai and English)\n",
    "    original_words = answer.split()\n",
    "    new_words = input.split()\n",
    "\n",
    "    # Use SequenceMatcher to find the similarities\n",
    "    matcher = SequenceMatcher(None, original_words, new_words)\n",
    "    differences = list(matcher.get_opcodes())\n",
    "\n",
    "    # Count the number of words that are different\n",
    "    num_differences = len(original_words) - len(new_words)\n",
    "\n",
    "    # Extract the differing words\n",
    "    differing_words = [new_words[j1:j2] for tag, i1, i2, j1, j2 in differences if tag != 'equal']\n",
    "\n",
    "    # Print the differing words\n",
    "    print(\"Differing words:\")\n",
    "    for word_list in differing_words:\n",
    "        print(\" \".join(word_list))\n",
    "\n",
    "    # Print the number of character differences\n",
    "    print(f\"Picture {i} : Number of Word differences: {num_differences}\")\n",
    "\n",
    "    # Save result to output file\n",
    "    with open(output_file_path, 'r') as file:\n",
    "        existing_contents = file.read()\n",
    "\n",
    "    with open(output_file_path, 'w') as file:\n",
    "        file.write(existing_contents+f\"\\nPicture {i} : Number of Word differences: {num_differences}\\n{differing_words}\")\n",
    "    "
   ]
  },
  {
   "cell_type": "markdown",
   "metadata": {},
   "source": []
  }
 ],
 "metadata": {
  "kernelspec": {
   "display_name": "base",
   "language": "python",
   "name": "python3"
  },
  "language_info": {
   "codemirror_mode": {
    "name": "ipython",
    "version": 3
   },
   "file_extension": ".py",
   "mimetype": "text/x-python",
   "name": "python",
   "nbconvert_exporter": "python",
   "pygments_lexer": "ipython3",
   "version": "3.11.5"
  }
 },
 "nbformat": 4,
 "nbformat_minor": 2
}
